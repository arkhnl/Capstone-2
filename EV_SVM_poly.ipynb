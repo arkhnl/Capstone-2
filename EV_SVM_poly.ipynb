{
 "cells": [
  {
   "cell_type": "code",
   "execution_count": 1,
   "metadata": {
    "collapsed": false
   },
   "outputs": [
    {
     "name": "stderr",
     "output_type": "stream",
     "text": [
      "/Anaconda/anaconda/lib/python3.6/importlib/_bootstrap.py:205: RuntimeWarning: numpy.dtype size changed, may indicate binary incompatibility. Expected 96, got 88\n",
      "  return f(*args, **kwds)\n"
     ]
    }
   ],
   "source": [
    "import pandas as pd\n",
    "\n",
    "df_meter = pd.read_csv('EV_train.csv')\n",
    "df_label = pd.read_csv('EV_train_labels.csv')\n",
    "df_test = pd.read_csv('EV_test.csv')\n",
    "df_sub = pd.read_csv('sample_submission.csv')"
   ]
  },
  {
   "cell_type": "code",
   "execution_count": 2,
   "metadata": {
    "collapsed": false,
    "scrolled": true
   },
   "outputs": [
    {
     "data": {
      "text/html": [
       "<div>\n",
       "<style scoped>\n",
       "    .dataframe tbody tr th:only-of-type {\n",
       "        vertical-align: middle;\n",
       "    }\n",
       "\n",
       "    .dataframe tbody tr th {\n",
       "        vertical-align: top;\n",
       "    }\n",
       "\n",
       "    .dataframe thead th {\n",
       "        text-align: right;\n",
       "    }\n",
       "</style>\n",
       "<table border=\"1\" class=\"dataframe\">\n",
       "  <thead>\n",
       "    <tr style=\"text-align: right;\">\n",
       "      <th></th>\n",
       "      <th>House ID</th>\n",
       "      <th>Interval_1</th>\n",
       "      <th>Interval_2</th>\n",
       "      <th>Interval_3</th>\n",
       "      <th>Interval_4</th>\n",
       "      <th>Interval_5</th>\n",
       "      <th>Interval_6</th>\n",
       "      <th>Interval_7</th>\n",
       "      <th>Interval_8</th>\n",
       "      <th>Interval_9</th>\n",
       "      <th>...</th>\n",
       "      <th>Interval_2871</th>\n",
       "      <th>Interval_2872</th>\n",
       "      <th>Interval_2873</th>\n",
       "      <th>Interval_2874</th>\n",
       "      <th>Interval_2875</th>\n",
       "      <th>Interval_2876</th>\n",
       "      <th>Interval_2877</th>\n",
       "      <th>Interval_2878</th>\n",
       "      <th>Interval_2879</th>\n",
       "      <th>Interval_2880</th>\n",
       "    </tr>\n",
       "  </thead>\n",
       "  <tbody>\n",
       "    <tr>\n",
       "      <th>0</th>\n",
       "      <td>11655099</td>\n",
       "      <td>0.950</td>\n",
       "      <td>0.826</td>\n",
       "      <td>0.361</td>\n",
       "      <td>0.238</td>\n",
       "      <td>0.342</td>\n",
       "      <td>0.233000</td>\n",
       "      <td>0.351000</td>\n",
       "      <td>0.194000</td>\n",
       "      <td>0.292000</td>\n",
       "      <td>...</td>\n",
       "      <td>0.664</td>\n",
       "      <td>0.783</td>\n",
       "      <td>0.601</td>\n",
       "      <td>0.639</td>\n",
       "      <td>0.417</td>\n",
       "      <td>0.439</td>\n",
       "      <td>0.226</td>\n",
       "      <td>0.190</td>\n",
       "      <td>0.710</td>\n",
       "      <td>0.728</td>\n",
       "    </tr>\n",
       "    <tr>\n",
       "      <th>1</th>\n",
       "      <td>11633257</td>\n",
       "      <td>0.353</td>\n",
       "      <td>0.327</td>\n",
       "      <td>0.358</td>\n",
       "      <td>0.292</td>\n",
       "      <td>0.285</td>\n",
       "      <td>0.304000</td>\n",
       "      <td>0.361000</td>\n",
       "      <td>0.342000</td>\n",
       "      <td>0.355000</td>\n",
       "      <td>...</td>\n",
       "      <td>0.536</td>\n",
       "      <td>0.558</td>\n",
       "      <td>0.622</td>\n",
       "      <td>0.634</td>\n",
       "      <td>0.513</td>\n",
       "      <td>0.421</td>\n",
       "      <td>0.273</td>\n",
       "      <td>0.296</td>\n",
       "      <td>0.291</td>\n",
       "      <td>0.289</td>\n",
       "    </tr>\n",
       "    <tr>\n",
       "      <th>2</th>\n",
       "      <td>11651552</td>\n",
       "      <td>0.150</td>\n",
       "      <td>0.181</td>\n",
       "      <td>0.150</td>\n",
       "      <td>0.150</td>\n",
       "      <td>0.131</td>\n",
       "      <td>0.125000</td>\n",
       "      <td>0.088000</td>\n",
       "      <td>0.106000</td>\n",
       "      <td>0.094000</td>\n",
       "      <td>...</td>\n",
       "      <td>2.125</td>\n",
       "      <td>0.881</td>\n",
       "      <td>0.481</td>\n",
       "      <td>1.194</td>\n",
       "      <td>0.138</td>\n",
       "      <td>0.119</td>\n",
       "      <td>0.038</td>\n",
       "      <td>0.088</td>\n",
       "      <td>0.056</td>\n",
       "      <td>0.113</td>\n",
       "    </tr>\n",
       "    <tr>\n",
       "      <th>3</th>\n",
       "      <td>11636092</td>\n",
       "      <td>2.088</td>\n",
       "      <td>2.075</td>\n",
       "      <td>2.121</td>\n",
       "      <td>2.098</td>\n",
       "      <td>2.046</td>\n",
       "      <td>2.081000</td>\n",
       "      <td>1.847000</td>\n",
       "      <td>0.420000</td>\n",
       "      <td>0.399000</td>\n",
       "      <td>...</td>\n",
       "      <td>0.620</td>\n",
       "      <td>0.487</td>\n",
       "      <td>0.563</td>\n",
       "      <td>0.419</td>\n",
       "      <td>0.379</td>\n",
       "      <td>0.359</td>\n",
       "      <td>0.347</td>\n",
       "      <td>0.325</td>\n",
       "      <td>0.330</td>\n",
       "      <td>0.340</td>\n",
       "    </tr>\n",
       "    <tr>\n",
       "      <th>4</th>\n",
       "      <td>11647239</td>\n",
       "      <td>1.416</td>\n",
       "      <td>1.250</td>\n",
       "      <td>1.270</td>\n",
       "      <td>1.258</td>\n",
       "      <td>1.239</td>\n",
       "      <td>1.753105</td>\n",
       "      <td>4.609256</td>\n",
       "      <td>4.619256</td>\n",
       "      <td>4.075151</td>\n",
       "      <td>...</td>\n",
       "      <td>1.596</td>\n",
       "      <td>1.667</td>\n",
       "      <td>1.569</td>\n",
       "      <td>1.664</td>\n",
       "      <td>1.580</td>\n",
       "      <td>1.635</td>\n",
       "      <td>1.568</td>\n",
       "      <td>1.565</td>\n",
       "      <td>1.575</td>\n",
       "      <td>1.571</td>\n",
       "    </tr>\n",
       "  </tbody>\n",
       "</table>\n",
       "<p>5 rows × 2881 columns</p>\n",
       "</div>"
      ],
      "text/plain": [
       "   House ID  Interval_1  Interval_2  Interval_3  Interval_4  Interval_5  \\\n",
       "0  11655099       0.950       0.826       0.361       0.238       0.342   \n",
       "1  11633257       0.353       0.327       0.358       0.292       0.285   \n",
       "2  11651552       0.150       0.181       0.150       0.150       0.131   \n",
       "3  11636092       2.088       2.075       2.121       2.098       2.046   \n",
       "4  11647239       1.416       1.250       1.270       1.258       1.239   \n",
       "\n",
       "   Interval_6  Interval_7  Interval_8  Interval_9      ...        \\\n",
       "0    0.233000    0.351000    0.194000    0.292000      ...         \n",
       "1    0.304000    0.361000    0.342000    0.355000      ...         \n",
       "2    0.125000    0.088000    0.106000    0.094000      ...         \n",
       "3    2.081000    1.847000    0.420000    0.399000      ...         \n",
       "4    1.753105    4.609256    4.619256    4.075151      ...         \n",
       "\n",
       "   Interval_2871  Interval_2872  Interval_2873  Interval_2874  Interval_2875  \\\n",
       "0          0.664          0.783          0.601          0.639          0.417   \n",
       "1          0.536          0.558          0.622          0.634          0.513   \n",
       "2          2.125          0.881          0.481          1.194          0.138   \n",
       "3          0.620          0.487          0.563          0.419          0.379   \n",
       "4          1.596          1.667          1.569          1.664          1.580   \n",
       "\n",
       "   Interval_2876  Interval_2877  Interval_2878  Interval_2879  Interval_2880  \n",
       "0          0.439          0.226          0.190          0.710          0.728  \n",
       "1          0.421          0.273          0.296          0.291          0.289  \n",
       "2          0.119          0.038          0.088          0.056          0.113  \n",
       "3          0.359          0.347          0.325          0.330          0.340  \n",
       "4          1.635          1.568          1.565          1.575          1.571  \n",
       "\n",
       "[5 rows x 2881 columns]"
      ]
     },
     "execution_count": 2,
     "metadata": {},
     "output_type": "execute_result"
    }
   ],
   "source": [
    "df_meter.head()"
   ]
  },
  {
   "cell_type": "code",
   "execution_count": 3,
   "metadata": {
    "collapsed": true
   },
   "outputs": [],
   "source": [
    "df_meter.set_index('House ID', inplace=True)\n",
    "df_label.set_index('House ID', inplace=True)"
   ]
  },
  {
   "cell_type": "code",
   "execution_count": 4,
   "metadata": {
    "collapsed": true
   },
   "outputs": [],
   "source": [
    "# Find null values in training data and training label and drop them\n",
    "list1 = df_meter[pd.isnull(df_meter).any(axis=1)].index.tolist()\n",
    "df_meter = df_meter.drop(index=list1)\n",
    "df_label = df_label.drop(index=list1)"
   ]
  },
  {
   "cell_type": "code",
   "execution_count": 5,
   "metadata": {
    "collapsed": false
   },
   "outputs": [
    {
     "data": {
      "text/plain": [
       "((1586, 2880), (1586, 2880))"
      ]
     },
     "execution_count": 5,
     "metadata": {},
     "output_type": "execute_result"
    }
   ],
   "source": [
    "df_meter.shape, df_label.shape"
   ]
  },
  {
   "cell_type": "code",
   "execution_count": 6,
   "metadata": {
    "collapsed": false
   },
   "outputs": [
    {
     "data": {
      "text/plain": [
       "True"
      ]
     },
     "execution_count": 6,
     "metadata": {},
     "output_type": "execute_result"
    }
   ],
   "source": [
    "a = df_meter.columns == df_label.columns\n",
    "a.all()"
   ]
  },
  {
   "cell_type": "code",
   "execution_count": 7,
   "metadata": {
    "collapsed": false
   },
   "outputs": [],
   "source": [
    "ev_label = pd.DataFrame(data = df_label.max(axis=1), index = df_label.index)\n",
    "ev_label.columns = ['label']"
   ]
  },
  {
   "cell_type": "code",
   "execution_count": 8,
   "metadata": {
    "collapsed": false
   },
   "outputs": [
    {
     "data": {
      "image/png": "[encoded data removed]",
      "text/plain": [
       "<matplotlib.figure.Figure at 0x1195783c8>"
      ]
     },
     "metadata": {},
     "output_type": "display_data"
    }
   ],
   "source": [
    "import matplotlib.pyplot as plt\n",
    "ev_label.label.value_counts().to_frame().plot(kind='bar')\n",
    "plt.show()\n",
    "\n",
    "# Unbalanced data"
   ]
  },
  {
   "cell_type": "code",
   "execution_count": 9,
   "metadata": {
    "collapsed": false
   },
   "outputs": [],
   "source": [
    "df_train = df_meter"
   ]
  },
  {
   "cell_type": "code",
   "execution_count": 10,
   "metadata": {
    "collapsed": false
   },
   "outputs": [
    {
     "name": "stderr",
     "output_type": "stream",
     "text": [
      "/Anaconda/anaconda/lib/python3.6/importlib/_bootstrap.py:205: RuntimeWarning: numpy.dtype size changed, may indicate binary incompatibility. Expected 96, got 88\n",
      "  return f(*args, **kwds)\n",
      "/Anaconda/anaconda/lib/python3.6/importlib/_bootstrap.py:205: RuntimeWarning: numpy.dtype size changed, may indicate binary incompatibility. Expected 96, got 88\n",
      "  return f(*args, **kwds)\n",
      "/Anaconda/anaconda/lib/python3.6/importlib/_bootstrap.py:205: RuntimeWarning: numpy.dtype size changed, may indicate binary incompatibility. Expected 96, got 88\n",
      "  return f(*args, **kwds)\n",
      "/Anaconda/anaconda/lib/python3.6/importlib/_bootstrap.py:205: RuntimeWarning: numpy.dtype size changed, may indicate binary incompatibility. Expected 96, got 88\n",
      "  return f(*args, **kwds)\n"
     ]
    }
   ],
   "source": [
    "from sklearn.preprocessing import StandardScaler\n",
    "from sklearn import svm\n",
    "from sklearn.pipeline import Pipeline\n",
    "from sklearn.model_selection import train_test_split\n",
    "from sklearn.model_selection import GridSearchCV\n",
    "from sklearn.model_selection import TimeSeriesSplit \n"
   ]
  },
  {
   "cell_type": "code",
   "execution_count": 11,
   "metadata": {
    "collapsed": false
   },
   "outputs": [],
   "source": [
    "# Time series split to prserve the sequential nature of data\n",
    "\n",
    "tscv = TimeSeriesSplit(n_splits = 3)\n",
    "my_cv = tscv.split(df_train)"
   ]
  },
  {
   "cell_type": "code",
   "execution_count": 12,
   "metadata": {
    "collapsed": false
   },
   "outputs": [],
   "source": [
    "# class weight set to balanced due to unbalanced data\n",
    "\n",
    "pipe = Pipeline(steps=[('scaler',StandardScaler()),\n",
    "                      ('clf',svm.SVC(kernel='poly', degree=3,class_weight='balanced'))])"
   ]
  },
  {
   "cell_type": "code",
   "execution_count": 13,
   "metadata": {
    "collapsed": false
   },
   "outputs": [],
   "source": [
    "# Scoring was set to compute precision, recall and f1. The model refit was set on f1 score.\n",
    "\n",
    "param_grid = {'clf__C':[1,10,100,1000],\n",
    "             'clf__coef0':[0,0.1,1,2],\n",
    "             }\n",
    "scoring = {'prc':'precision','rc':'recall','f1':'f1'}\n",
    "\n",
    "gs = GridSearchCV(estimator = pipe,\n",
    "                 param_grid=param_grid,\n",
    "                 scoring=scoring,\n",
    "                 refit='f1',\n",
    "                 cv=my_cv)"
   ]
  },
  {
   "cell_type": "code",
   "execution_count": 14,
   "metadata": {
    "collapsed": false
   },
   "outputs": [
    {
     "data": {
      "text/plain": [
       "GridSearchCV(cv=<generator object TimeSeriesSplit.split at 0x115608c50>,\n",
       "       error_score='raise',\n",
       "       estimator=Pipeline(memory=None,\n",
       "     steps=[('scaler', StandardScaler(copy=True, with_mean=True, with_std=True)), ('clf', SVC(C=1.0, cache_size=200, class_weight='balanced', coef0=0.0,\n",
       "  decision_function_shape='ovr', degree=3, gamma='auto', kernel='poly',\n",
       "  max_iter=-1, probability=False, random_state=None, shrinking=True,\n",
       "  tol=0.001, verbose=False))]),\n",
       "       fit_params=None, iid=True, n_jobs=1,\n",
       "       param_grid={'clf__C': [1, 10, 100, 1000], 'clf__coef0': [0, 0.1, 1, 2]},\n",
       "       pre_dispatch='2*n_jobs', refit='f1', return_train_score='warn',\n",
       "       scoring={'prc': 'precision', 'rc': 'recall', 'f1': 'f1'}, verbose=0)"
      ]
     },
     "execution_count": 14,
     "metadata": {},
     "output_type": "execute_result"
    }
   ],
   "source": [
    "gs.fit(df_train, ev_label.label)"
   ]
  },
  {
   "cell_type": "code",
   "execution_count": 15,
   "metadata": {
    "collapsed": false
   },
   "outputs": [
    {
     "data": {
      "text/plain": [
       "{'clf__C': 10, 'clf__coef0': 1}"
      ]
     },
     "execution_count": 15,
     "metadata": {},
     "output_type": "execute_result"
    }
   ],
   "source": [
    "#best hyper parameters \n",
    "\n",
    "gs.best_params_"
   ]
  },
  {
   "cell_type": "code",
   "execution_count": 16,
   "metadata": {
    "collapsed": false
   },
   "outputs": [
    {
     "data": {
      "text/plain": [
       "0.6329898242043711"
      ]
     },
     "execution_count": 16,
     "metadata": {},
     "output_type": "execute_result"
    }
   ],
   "source": [
    "#best f1 score\n",
    "\n",
    "gs.best_score_"
   ]
  },
  {
   "cell_type": "code",
   "execution_count": 17,
   "metadata": {
    "collapsed": false
   },
   "outputs": [],
   "source": [
    "f1_list = gs.cv_results_['mean_test_f1']\n",
    "rc_list = gs.cv_results_['mean_test_rc']\n",
    "prc_list = gs.cv_results_['mean_test_prc']\n",
    "result_data=list(zip(f1_list,rc_list,prc_list))\n",
    "result_frame = pd.DataFrame(result_data, columns=['F1','Recall','Precision'])"
   ]
  },
  {
   "cell_type": "code",
   "execution_count": 18,
   "metadata": {
    "collapsed": false
   },
   "outputs": [
    {
     "data": {
      "text/html": [
       "<div>\n",
       "<style scoped>\n",
       "    .dataframe tbody tr th:only-of-type {\n",
       "        vertical-align: middle;\n",
       "    }\n",
       "\n",
       "    .dataframe tbody tr th {\n",
       "        vertical-align: top;\n",
       "    }\n",
       "\n",
       "    .dataframe thead th {\n",
       "        text-align: right;\n",
       "    }\n",
       "</style>\n",
       "<table border=\"1\" class=\"dataframe\">\n",
       "  <thead>\n",
       "    <tr style=\"text-align: right;\">\n",
       "      <th></th>\n",
       "      <th>F1</th>\n",
       "      <th>Recall</th>\n",
       "      <th>Precision</th>\n",
       "    </tr>\n",
       "  </thead>\n",
       "  <tbody>\n",
       "    <tr>\n",
       "      <th>0</th>\n",
       "      <td>0.467017</td>\n",
       "      <td>0.976360</td>\n",
       "      <td>0.308173</td>\n",
       "    </tr>\n",
       "    <tr>\n",
       "      <th>1</th>\n",
       "      <td>0.466920</td>\n",
       "      <td>0.972993</td>\n",
       "      <td>0.308481</td>\n",
       "    </tr>\n",
       "    <tr>\n",
       "      <th>2</th>\n",
       "      <td>0.616614</td>\n",
       "      <td>0.505333</td>\n",
       "      <td>0.794731</td>\n",
       "    </tr>\n",
       "    <tr>\n",
       "      <th>3</th>\n",
       "      <td>0.624908</td>\n",
       "      <td>0.504297</td>\n",
       "      <td>0.826427</td>\n",
       "    </tr>\n",
       "    <tr>\n",
       "      <th>4</th>\n",
       "      <td>0.468956</td>\n",
       "      <td>0.976360</td>\n",
       "      <td>0.309916</td>\n",
       "    </tr>\n",
       "    <tr>\n",
       "      <th>5</th>\n",
       "      <td>0.568123</td>\n",
       "      <td>0.636246</td>\n",
       "      <td>0.515286</td>\n",
       "    </tr>\n",
       "    <tr>\n",
       "      <th>6</th>\n",
       "      <td>0.632990</td>\n",
       "      <td>0.510678</td>\n",
       "      <td>0.835763</td>\n",
       "    </tr>\n",
       "    <tr>\n",
       "      <th>7</th>\n",
       "      <td>0.625557</td>\n",
       "      <td>0.510678</td>\n",
       "      <td>0.813330</td>\n",
       "    </tr>\n",
       "    <tr>\n",
       "      <th>8</th>\n",
       "      <td>0.369152</td>\n",
       "      <td>0.246168</td>\n",
       "      <td>0.766275</td>\n",
       "    </tr>\n",
       "    <tr>\n",
       "      <th>9</th>\n",
       "      <td>0.592367</td>\n",
       "      <td>0.453604</td>\n",
       "      <td>0.862602</td>\n",
       "    </tr>\n",
       "    <tr>\n",
       "      <th>10</th>\n",
       "      <td>0.618158</td>\n",
       "      <td>0.502225</td>\n",
       "      <td>0.811240</td>\n",
       "    </tr>\n",
       "    <tr>\n",
       "      <th>11</th>\n",
       "      <td>0.628186</td>\n",
       "      <td>0.514045</td>\n",
       "      <td>0.814409</td>\n",
       "    </tr>\n",
       "    <tr>\n",
       "      <th>12</th>\n",
       "      <td>0.443282</td>\n",
       "      <td>0.302865</td>\n",
       "      <td>0.828741</td>\n",
       "    </tr>\n",
       "    <tr>\n",
       "      <th>13</th>\n",
       "      <td>0.564111</td>\n",
       "      <td>0.423395</td>\n",
       "      <td>0.850027</td>\n",
       "    </tr>\n",
       "    <tr>\n",
       "      <th>14</th>\n",
       "      <td>0.618158</td>\n",
       "      <td>0.502225</td>\n",
       "      <td>0.811240</td>\n",
       "    </tr>\n",
       "    <tr>\n",
       "      <th>15</th>\n",
       "      <td>0.628186</td>\n",
       "      <td>0.514045</td>\n",
       "      <td>0.814409</td>\n",
       "    </tr>\n",
       "  </tbody>\n",
       "</table>\n",
       "</div>"
      ],
      "text/plain": [
       "          F1    Recall  Precision\n",
       "0   0.467017  0.976360   0.308173\n",
       "1   0.466920  0.972993   0.308481\n",
       "2   0.616614  0.505333   0.794731\n",
       "3   0.624908  0.504297   0.826427\n",
       "4   0.468956  0.976360   0.309916\n",
       "5   0.568123  0.636246   0.515286\n",
       "6   0.632990  0.510678   0.835763\n",
       "7   0.625557  0.510678   0.813330\n",
       "8   0.369152  0.246168   0.766275\n",
       "9   0.592367  0.453604   0.862602\n",
       "10  0.618158  0.502225   0.811240\n",
       "11  0.628186  0.514045   0.814409\n",
       "12  0.443282  0.302865   0.828741\n",
       "13  0.564111  0.423395   0.850027\n",
       "14  0.618158  0.502225   0.811240\n",
       "15  0.628186  0.514045   0.814409"
      ]
     },
     "execution_count": 18,
     "metadata": {},
     "output_type": "execute_result"
    }
   ],
   "source": [
    "result_frame"
   ]
  }
 ],
 "metadata": {
  "kernelspec": {
   "display_name": "Python 3",
   "language": "python",
   "name": "python3"
  },
  "language_info": {
   "codemirror_mode": {
    "name": "ipython",
    "version": 3
   },
   "file_extension": ".py",
   "mimetype": "text/x-python",
   "name": "python",
   "nbconvert_exporter": "python",
   "pygments_lexer": "ipython3",
   "version": "3.6.0"
  }
 },
 "nbformat": 4,
 "nbformat_minor": 2
}
