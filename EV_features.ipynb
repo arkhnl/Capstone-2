{
 "cells": [
  {
   "cell_type": "code",
   "execution_count": 2,
   "metadata": {
    "collapsed": false
   },
   "outputs": [],
   "source": [
    "import pandas as pd\n",
    "\n",
    "df_meter = pd.read_csv('EV_train.csv')\n",
    "df_label = pd.read_csv('EV_train_labels.csv')\n",
    "df_test = pd.read_csv('EV_test.csv')\n",
    "df_sub = pd.read_csv('sample_submission.csv')"
   ]
  },
  {
   "cell_type": "code",
   "execution_count": 3,
   "metadata": {
    "collapsed": false
   },
   "outputs": [
    {
     "data": {
      "text/html": [
       "<div>\n",
       "<style scoped>\n",
       "    .dataframe tbody tr th:only-of-type {\n",
       "        vertical-align: middle;\n",
       "    }\n",
       "\n",
       "    .dataframe tbody tr th {\n",
       "        vertical-align: top;\n",
       "    }\n",
       "\n",
       "    .dataframe thead th {\n",
       "        text-align: right;\n",
       "    }\n",
       "</style>\n",
       "<table border=\"1\" class=\"dataframe\">\n",
       "  <thead>\n",
       "    <tr style=\"text-align: right;\">\n",
       "      <th></th>\n",
       "      <th>House ID</th>\n",
       "      <th>Interval_1</th>\n",
       "      <th>Interval_2</th>\n",
       "      <th>Interval_3</th>\n",
       "      <th>Interval_4</th>\n",
       "      <th>Interval_5</th>\n",
       "      <th>Interval_6</th>\n",
       "      <th>Interval_7</th>\n",
       "      <th>Interval_8</th>\n",
       "      <th>Interval_9</th>\n",
       "      <th>...</th>\n",
       "      <th>Interval_2871</th>\n",
       "      <th>Interval_2872</th>\n",
       "      <th>Interval_2873</th>\n",
       "      <th>Interval_2874</th>\n",
       "      <th>Interval_2875</th>\n",
       "      <th>Interval_2876</th>\n",
       "      <th>Interval_2877</th>\n",
       "      <th>Interval_2878</th>\n",
       "      <th>Interval_2879</th>\n",
       "      <th>Interval_2880</th>\n",
       "    </tr>\n",
       "  </thead>\n",
       "  <tbody>\n",
       "    <tr>\n",
       "      <th>0</th>\n",
       "      <td>11655099</td>\n",
       "      <td>0.950</td>\n",
       "      <td>0.826</td>\n",
       "      <td>0.361</td>\n",
       "      <td>0.238</td>\n",
       "      <td>0.342</td>\n",
       "      <td>0.233000</td>\n",
       "      <td>0.351000</td>\n",
       "      <td>0.194000</td>\n",
       "      <td>0.292000</td>\n",
       "      <td>...</td>\n",
       "      <td>0.664</td>\n",
       "      <td>0.783</td>\n",
       "      <td>0.601</td>\n",
       "      <td>0.639</td>\n",
       "      <td>0.417</td>\n",
       "      <td>0.439</td>\n",
       "      <td>0.226</td>\n",
       "      <td>0.190</td>\n",
       "      <td>0.710</td>\n",
       "      <td>0.728</td>\n",
       "    </tr>\n",
       "    <tr>\n",
       "      <th>1</th>\n",
       "      <td>11633257</td>\n",
       "      <td>0.353</td>\n",
       "      <td>0.327</td>\n",
       "      <td>0.358</td>\n",
       "      <td>0.292</td>\n",
       "      <td>0.285</td>\n",
       "      <td>0.304000</td>\n",
       "      <td>0.361000</td>\n",
       "      <td>0.342000</td>\n",
       "      <td>0.355000</td>\n",
       "      <td>...</td>\n",
       "      <td>0.536</td>\n",
       "      <td>0.558</td>\n",
       "      <td>0.622</td>\n",
       "      <td>0.634</td>\n",
       "      <td>0.513</td>\n",
       "      <td>0.421</td>\n",
       "      <td>0.273</td>\n",
       "      <td>0.296</td>\n",
       "      <td>0.291</td>\n",
       "      <td>0.289</td>\n",
       "    </tr>\n",
       "    <tr>\n",
       "      <th>2</th>\n",
       "      <td>11651552</td>\n",
       "      <td>0.150</td>\n",
       "      <td>0.181</td>\n",
       "      <td>0.150</td>\n",
       "      <td>0.150</td>\n",
       "      <td>0.131</td>\n",
       "      <td>0.125000</td>\n",
       "      <td>0.088000</td>\n",
       "      <td>0.106000</td>\n",
       "      <td>0.094000</td>\n",
       "      <td>...</td>\n",
       "      <td>2.125</td>\n",
       "      <td>0.881</td>\n",
       "      <td>0.481</td>\n",
       "      <td>1.194</td>\n",
       "      <td>0.138</td>\n",
       "      <td>0.119</td>\n",
       "      <td>0.038</td>\n",
       "      <td>0.088</td>\n",
       "      <td>0.056</td>\n",
       "      <td>0.113</td>\n",
       "    </tr>\n",
       "    <tr>\n",
       "      <th>3</th>\n",
       "      <td>11636092</td>\n",
       "      <td>2.088</td>\n",
       "      <td>2.075</td>\n",
       "      <td>2.121</td>\n",
       "      <td>2.098</td>\n",
       "      <td>2.046</td>\n",
       "      <td>2.081000</td>\n",
       "      <td>1.847000</td>\n",
       "      <td>0.420000</td>\n",
       "      <td>0.399000</td>\n",
       "      <td>...</td>\n",
       "      <td>0.620</td>\n",
       "      <td>0.487</td>\n",
       "      <td>0.563</td>\n",
       "      <td>0.419</td>\n",
       "      <td>0.379</td>\n",
       "      <td>0.359</td>\n",
       "      <td>0.347</td>\n",
       "      <td>0.325</td>\n",
       "      <td>0.330</td>\n",
       "      <td>0.340</td>\n",
       "    </tr>\n",
       "    <tr>\n",
       "      <th>4</th>\n",
       "      <td>11647239</td>\n",
       "      <td>1.416</td>\n",
       "      <td>1.250</td>\n",
       "      <td>1.270</td>\n",
       "      <td>1.258</td>\n",
       "      <td>1.239</td>\n",
       "      <td>1.753105</td>\n",
       "      <td>4.609256</td>\n",
       "      <td>4.619256</td>\n",
       "      <td>4.075151</td>\n",
       "      <td>...</td>\n",
       "      <td>1.596</td>\n",
       "      <td>1.667</td>\n",
       "      <td>1.569</td>\n",
       "      <td>1.664</td>\n",
       "      <td>1.580</td>\n",
       "      <td>1.635</td>\n",
       "      <td>1.568</td>\n",
       "      <td>1.565</td>\n",
       "      <td>1.575</td>\n",
       "      <td>1.571</td>\n",
       "    </tr>\n",
       "  </tbody>\n",
       "</table>\n",
       "<p>5 rows × 2881 columns</p>\n",
       "</div>"
      ],
      "text/plain": [
       "   House ID  Interval_1  Interval_2  Interval_3  Interval_4  Interval_5  \\\n",
       "0  11655099       0.950       0.826       0.361       0.238       0.342   \n",
       "1  11633257       0.353       0.327       0.358       0.292       0.285   \n",
       "2  11651552       0.150       0.181       0.150       0.150       0.131   \n",
       "3  11636092       2.088       2.075       2.121       2.098       2.046   \n",
       "4  11647239       1.416       1.250       1.270       1.258       1.239   \n",
       "\n",
       "   Interval_6  Interval_7  Interval_8  Interval_9      ...        \\\n",
       "0    0.233000    0.351000    0.194000    0.292000      ...         \n",
       "1    0.304000    0.361000    0.342000    0.355000      ...         \n",
       "2    0.125000    0.088000    0.106000    0.094000      ...         \n",
       "3    2.081000    1.847000    0.420000    0.399000      ...         \n",
       "4    1.753105    4.609256    4.619256    4.075151      ...         \n",
       "\n",
       "   Interval_2871  Interval_2872  Interval_2873  Interval_2874  Interval_2875  \\\n",
       "0          0.664          0.783          0.601          0.639          0.417   \n",
       "1          0.536          0.558          0.622          0.634          0.513   \n",
       "2          2.125          0.881          0.481          1.194          0.138   \n",
       "3          0.620          0.487          0.563          0.419          0.379   \n",
       "4          1.596          1.667          1.569          1.664          1.580   \n",
       "\n",
       "   Interval_2876  Interval_2877  Interval_2878  Interval_2879  Interval_2880  \n",
       "0          0.439          0.226          0.190          0.710          0.728  \n",
       "1          0.421          0.273          0.296          0.291          0.289  \n",
       "2          0.119          0.038          0.088          0.056          0.113  \n",
       "3          0.359          0.347          0.325          0.330          0.340  \n",
       "4          1.635          1.568          1.565          1.575          1.571  \n",
       "\n",
       "[5 rows x 2881 columns]"
      ]
     },
     "execution_count": 3,
     "metadata": {},
     "output_type": "execute_result"
    }
   ],
   "source": [
    "df_meter.head()"
   ]
  },
  {
   "cell_type": "code",
   "execution_count": 4,
   "metadata": {
    "collapsed": true
   },
   "outputs": [],
   "source": [
    "df_meter.set_index('House ID', inplace=True)\n",
    "df_label.set_index('House ID', inplace=True)"
   ]
  },
  {
   "cell_type": "code",
   "execution_count": 5,
   "metadata": {
    "collapsed": false
   },
   "outputs": [
    {
     "data": {
      "text/html": [
       "<div>\n",
       "<style scoped>\n",
       "    .dataframe tbody tr th:only-of-type {\n",
       "        vertical-align: middle;\n",
       "    }\n",
       "\n",
       "    .dataframe tbody tr th {\n",
       "        vertical-align: top;\n",
       "    }\n",
       "\n",
       "    .dataframe thead th {\n",
       "        text-align: right;\n",
       "    }\n",
       "</style>\n",
       "<table border=\"1\" class=\"dataframe\">\n",
       "  <thead>\n",
       "    <tr style=\"text-align: right;\">\n",
       "      <th></th>\n",
       "      <th>Interval_1</th>\n",
       "      <th>Interval_2</th>\n",
       "      <th>Interval_3</th>\n",
       "      <th>Interval_4</th>\n",
       "      <th>Interval_5</th>\n",
       "      <th>Interval_6</th>\n",
       "      <th>Interval_7</th>\n",
       "      <th>Interval_8</th>\n",
       "      <th>Interval_9</th>\n",
       "      <th>Interval_10</th>\n",
       "      <th>...</th>\n",
       "      <th>Interval_2871</th>\n",
       "      <th>Interval_2872</th>\n",
       "      <th>Interval_2873</th>\n",
       "      <th>Interval_2874</th>\n",
       "      <th>Interval_2875</th>\n",
       "      <th>Interval_2876</th>\n",
       "      <th>Interval_2877</th>\n",
       "      <th>Interval_2878</th>\n",
       "      <th>Interval_2879</th>\n",
       "      <th>Interval_2880</th>\n",
       "    </tr>\n",
       "    <tr>\n",
       "      <th>House ID</th>\n",
       "      <th></th>\n",
       "      <th></th>\n",
       "      <th></th>\n",
       "      <th></th>\n",
       "      <th></th>\n",
       "      <th></th>\n",
       "      <th></th>\n",
       "      <th></th>\n",
       "      <th></th>\n",
       "      <th></th>\n",
       "      <th></th>\n",
       "      <th></th>\n",
       "      <th></th>\n",
       "      <th></th>\n",
       "      <th></th>\n",
       "      <th></th>\n",
       "      <th></th>\n",
       "      <th></th>\n",
       "      <th></th>\n",
       "      <th></th>\n",
       "      <th></th>\n",
       "    </tr>\n",
       "  </thead>\n",
       "  <tbody>\n",
       "    <tr>\n",
       "      <th>11655099</th>\n",
       "      <td>0.950</td>\n",
       "      <td>0.826</td>\n",
       "      <td>0.361</td>\n",
       "      <td>0.238</td>\n",
       "      <td>0.342</td>\n",
       "      <td>0.233000</td>\n",
       "      <td>0.351000</td>\n",
       "      <td>0.194000</td>\n",
       "      <td>0.292000</td>\n",
       "      <td>0.234</td>\n",
       "      <td>...</td>\n",
       "      <td>0.664</td>\n",
       "      <td>0.783</td>\n",
       "      <td>0.601</td>\n",
       "      <td>0.639</td>\n",
       "      <td>0.417</td>\n",
       "      <td>0.439</td>\n",
       "      <td>0.226</td>\n",
       "      <td>0.190</td>\n",
       "      <td>0.710</td>\n",
       "      <td>0.728</td>\n",
       "    </tr>\n",
       "    <tr>\n",
       "      <th>11633257</th>\n",
       "      <td>0.353</td>\n",
       "      <td>0.327</td>\n",
       "      <td>0.358</td>\n",
       "      <td>0.292</td>\n",
       "      <td>0.285</td>\n",
       "      <td>0.304000</td>\n",
       "      <td>0.361000</td>\n",
       "      <td>0.342000</td>\n",
       "      <td>0.355000</td>\n",
       "      <td>0.348</td>\n",
       "      <td>...</td>\n",
       "      <td>0.536</td>\n",
       "      <td>0.558</td>\n",
       "      <td>0.622</td>\n",
       "      <td>0.634</td>\n",
       "      <td>0.513</td>\n",
       "      <td>0.421</td>\n",
       "      <td>0.273</td>\n",
       "      <td>0.296</td>\n",
       "      <td>0.291</td>\n",
       "      <td>0.289</td>\n",
       "    </tr>\n",
       "    <tr>\n",
       "      <th>11651552</th>\n",
       "      <td>0.150</td>\n",
       "      <td>0.181</td>\n",
       "      <td>0.150</td>\n",
       "      <td>0.150</td>\n",
       "      <td>0.131</td>\n",
       "      <td>0.125000</td>\n",
       "      <td>0.088000</td>\n",
       "      <td>0.106000</td>\n",
       "      <td>0.094000</td>\n",
       "      <td>1.019</td>\n",
       "      <td>...</td>\n",
       "      <td>2.125</td>\n",
       "      <td>0.881</td>\n",
       "      <td>0.481</td>\n",
       "      <td>1.194</td>\n",
       "      <td>0.138</td>\n",
       "      <td>0.119</td>\n",
       "      <td>0.038</td>\n",
       "      <td>0.088</td>\n",
       "      <td>0.056</td>\n",
       "      <td>0.113</td>\n",
       "    </tr>\n",
       "    <tr>\n",
       "      <th>11636092</th>\n",
       "      <td>2.088</td>\n",
       "      <td>2.075</td>\n",
       "      <td>2.121</td>\n",
       "      <td>2.098</td>\n",
       "      <td>2.046</td>\n",
       "      <td>2.081000</td>\n",
       "      <td>1.847000</td>\n",
       "      <td>0.420000</td>\n",
       "      <td>0.399000</td>\n",
       "      <td>0.364</td>\n",
       "      <td>...</td>\n",
       "      <td>0.620</td>\n",
       "      <td>0.487</td>\n",
       "      <td>0.563</td>\n",
       "      <td>0.419</td>\n",
       "      <td>0.379</td>\n",
       "      <td>0.359</td>\n",
       "      <td>0.347</td>\n",
       "      <td>0.325</td>\n",
       "      <td>0.330</td>\n",
       "      <td>0.340</td>\n",
       "    </tr>\n",
       "    <tr>\n",
       "      <th>11647239</th>\n",
       "      <td>1.416</td>\n",
       "      <td>1.250</td>\n",
       "      <td>1.270</td>\n",
       "      <td>1.258</td>\n",
       "      <td>1.239</td>\n",
       "      <td>1.753105</td>\n",
       "      <td>4.609256</td>\n",
       "      <td>4.619256</td>\n",
       "      <td>4.075151</td>\n",
       "      <td>1.230</td>\n",
       "      <td>...</td>\n",
       "      <td>1.596</td>\n",
       "      <td>1.667</td>\n",
       "      <td>1.569</td>\n",
       "      <td>1.664</td>\n",
       "      <td>1.580</td>\n",
       "      <td>1.635</td>\n",
       "      <td>1.568</td>\n",
       "      <td>1.565</td>\n",
       "      <td>1.575</td>\n",
       "      <td>1.571</td>\n",
       "    </tr>\n",
       "  </tbody>\n",
       "</table>\n",
       "<p>5 rows × 2880 columns</p>\n",
       "</div>"
      ],
      "text/plain": [
       "          Interval_1  Interval_2  Interval_3  Interval_4  Interval_5  \\\n",
       "House ID                                                               \n",
       "11655099       0.950       0.826       0.361       0.238       0.342   \n",
       "11633257       0.353       0.327       0.358       0.292       0.285   \n",
       "11651552       0.150       0.181       0.150       0.150       0.131   \n",
       "11636092       2.088       2.075       2.121       2.098       2.046   \n",
       "11647239       1.416       1.250       1.270       1.258       1.239   \n",
       "\n",
       "          Interval_6  Interval_7  Interval_8  Interval_9  Interval_10  \\\n",
       "House ID                                                                \n",
       "11655099    0.233000    0.351000    0.194000    0.292000        0.234   \n",
       "11633257    0.304000    0.361000    0.342000    0.355000        0.348   \n",
       "11651552    0.125000    0.088000    0.106000    0.094000        1.019   \n",
       "11636092    2.081000    1.847000    0.420000    0.399000        0.364   \n",
       "11647239    1.753105    4.609256    4.619256    4.075151        1.230   \n",
       "\n",
       "              ...        Interval_2871  Interval_2872  Interval_2873  \\\n",
       "House ID      ...                                                      \n",
       "11655099      ...                0.664          0.783          0.601   \n",
       "11633257      ...                0.536          0.558          0.622   \n",
       "11651552      ...                2.125          0.881          0.481   \n",
       "11636092      ...                0.620          0.487          0.563   \n",
       "11647239      ...                1.596          1.667          1.569   \n",
       "\n",
       "          Interval_2874  Interval_2875  Interval_2876  Interval_2877  \\\n",
       "House ID                                                               \n",
       "11655099          0.639          0.417          0.439          0.226   \n",
       "11633257          0.634          0.513          0.421          0.273   \n",
       "11651552          1.194          0.138          0.119          0.038   \n",
       "11636092          0.419          0.379          0.359          0.347   \n",
       "11647239          1.664          1.580          1.635          1.568   \n",
       "\n",
       "          Interval_2878  Interval_2879  Interval_2880  \n",
       "House ID                                               \n",
       "11655099          0.190          0.710          0.728  \n",
       "11633257          0.296          0.291          0.289  \n",
       "11651552          0.088          0.056          0.113  \n",
       "11636092          0.325          0.330          0.340  \n",
       "11647239          1.565          1.575          1.571  \n",
       "\n",
       "[5 rows x 2880 columns]"
      ]
     },
     "execution_count": 5,
     "metadata": {},
     "output_type": "execute_result"
    }
   ],
   "source": [
    "df_meter.head()"
   ]
  },
  {
   "cell_type": "code",
   "execution_count": 6,
   "metadata": {
    "collapsed": false
   },
   "outputs": [],
   "source": [
    "list1 = df_meter[pd.isnull(df_meter).any(axis=1)].index.tolist()"
   ]
  },
  {
   "cell_type": "code",
   "execution_count": 7,
   "metadata": {
    "collapsed": false
   },
   "outputs": [],
   "source": [
    "df_meter = df_meter.drop(index=list1)"
   ]
  },
  {
   "cell_type": "code",
   "execution_count": 8,
   "metadata": {
    "collapsed": false
   },
   "outputs": [],
   "source": [
    "df_label = df_label.drop(index=list1)"
   ]
  },
  {
   "cell_type": "code",
   "execution_count": 9,
   "metadata": {
    "collapsed": false
   },
   "outputs": [
    {
     "data": {
      "text/plain": [
       "((1586, 2880), (1586, 2880))"
      ]
     },
     "execution_count": 9,
     "metadata": {},
     "output_type": "execute_result"
    }
   ],
   "source": [
    "df_meter.shape, df_label.shape"
   ]
  },
  {
   "cell_type": "code",
   "execution_count": 10,
   "metadata": {
    "collapsed": false
   },
   "outputs": [
    {
     "data": {
      "text/plain": [
       "True"
      ]
     },
     "execution_count": 10,
     "metadata": {},
     "output_type": "execute_result"
    }
   ],
   "source": [
    "a = df_meter.columns == df_label.columns\n",
    "a.all()"
   ]
  },
  {
   "cell_type": "code",
   "execution_count": 11,
   "metadata": {
    "collapsed": false
   },
   "outputs": [],
   "source": [
    "ev_label = pd.DataFrame(data = df_label.max(axis=1), index = df_label.index)"
   ]
  },
  {
   "cell_type": "code",
   "execution_count": 12,
   "metadata": {
    "collapsed": false
   },
   "outputs": [],
   "source": [
    "ev_label.columns = ['label']"
   ]
  },
  {
   "cell_type": "code",
   "execution_count": 13,
   "metadata": {
    "collapsed": true
   },
   "outputs": [],
   "source": [
    "df_train = df_meter.mean(axis=1).rename('Avg_pwr').to_frame()"
   ]
  },
  {
   "cell_type": "code",
   "execution_count": 14,
   "metadata": {
    "collapsed": false
   },
   "outputs": [],
   "source": [
    "df_train['Med_pwr'] = df_meter.median(axis=1)\n",
    "df_train['Ran_pwr'] = df_meter.max(axis=1)-df_meter.min(axis=1)\n",
    "df_train['Std_pwr'] = df_meter.std(axis=1)\n",
    "df_train['IQR_pwr'] = df_meter.quantile(q=0.75,axis=1)-df_meter.quantile(q=0.25,axis=1)\n",
    "df_train['Nrange_pwr'] = df_train['Ran_pwr']/df_train['Avg_pwr']\n",
    "df_train['NIQR_pwr'] = df_train['IQR_pwr'] / df_train['Avg_pwr']"
   ]
  },
  {
   "cell_type": "code",
   "execution_count": 74,
   "metadata": {
    "collapsed": false
   },
   "outputs": [
    {
     "data": {
      "text/html": [
       "<div>\n",
       "<style scoped>\n",
       "    .dataframe tbody tr th:only-of-type {\n",
       "        vertical-align: middle;\n",
       "    }\n",
       "\n",
       "    .dataframe tbody tr th {\n",
       "        vertical-align: top;\n",
       "    }\n",
       "\n",
       "    .dataframe thead th {\n",
       "        text-align: right;\n",
       "    }\n",
       "</style>\n",
       "<table border=\"1\" class=\"dataframe\">\n",
       "  <thead>\n",
       "    <tr style=\"text-align: right;\">\n",
       "      <th></th>\n",
       "      <th>Avg_pwr</th>\n",
       "      <th>Med_pwr</th>\n",
       "      <th>Ran_pwr</th>\n",
       "      <th>Std_pwr</th>\n",
       "      <th>IQR_pwr</th>\n",
       "      <th>Nrange_pwr</th>\n",
       "      <th>NIQR_pwr</th>\n",
       "    </tr>\n",
       "    <tr>\n",
       "      <th>House ID</th>\n",
       "      <th></th>\n",
       "      <th></th>\n",
       "      <th></th>\n",
       "      <th></th>\n",
       "      <th></th>\n",
       "      <th></th>\n",
       "      <th></th>\n",
       "    </tr>\n",
       "  </thead>\n",
       "  <tbody>\n",
       "    <tr>\n",
       "      <th>11655099</th>\n",
       "      <td>0.569631</td>\n",
       "      <td>0.4450</td>\n",
       "      <td>2.010000</td>\n",
       "      <td>0.366291</td>\n",
       "      <td>0.44600</td>\n",
       "      <td>3.528601</td>\n",
       "      <td>0.782963</td>\n",
       "    </tr>\n",
       "    <tr>\n",
       "      <th>11633257</th>\n",
       "      <td>0.667629</td>\n",
       "      <td>0.4650</td>\n",
       "      <td>3.710000</td>\n",
       "      <td>0.489821</td>\n",
       "      <td>0.60425</td>\n",
       "      <td>5.556980</td>\n",
       "      <td>0.905069</td>\n",
       "    </tr>\n",
       "    <tr>\n",
       "      <th>11651552</th>\n",
       "      <td>0.659690</td>\n",
       "      <td>0.3560</td>\n",
       "      <td>4.763000</td>\n",
       "      <td>0.736209</td>\n",
       "      <td>0.86200</td>\n",
       "      <td>7.220055</td>\n",
       "      <td>1.306674</td>\n",
       "    </tr>\n",
       "    <tr>\n",
       "      <th>11636092</th>\n",
       "      <td>1.397184</td>\n",
       "      <td>1.0365</td>\n",
       "      <td>3.883000</td>\n",
       "      <td>0.864061</td>\n",
       "      <td>1.36050</td>\n",
       "      <td>2.779161</td>\n",
       "      <td>0.973744</td>\n",
       "    </tr>\n",
       "    <tr>\n",
       "      <th>11647239</th>\n",
       "      <td>1.423121</td>\n",
       "      <td>1.2510</td>\n",
       "      <td>6.228877</td>\n",
       "      <td>0.547277</td>\n",
       "      <td>0.22950</td>\n",
       "      <td>4.376912</td>\n",
       "      <td>0.161265</td>\n",
       "    </tr>\n",
       "  </tbody>\n",
       "</table>\n",
       "</div>"
      ],
      "text/plain": [
       "           Avg_pwr  Med_pwr   Ran_pwr   Std_pwr  IQR_pwr  Nrange_pwr  NIQR_pwr\n",
       "House ID                                                                      \n",
       "11655099  0.569631   0.4450  2.010000  0.366291  0.44600    3.528601  0.782963\n",
       "11633257  0.667629   0.4650  3.710000  0.489821  0.60425    5.556980  0.905069\n",
       "11651552  0.659690   0.3560  4.763000  0.736209  0.86200    7.220055  1.306674\n",
       "11636092  1.397184   1.0365  3.883000  0.864061  1.36050    2.779161  0.973744\n",
       "11647239  1.423121   1.2510  6.228877  0.547277  0.22950    4.376912  0.161265"
      ]
     },
     "execution_count": 74,
     "metadata": {},
     "output_type": "execute_result"
    }
   ],
   "source": [
    "df_train.head()"
   ]
  },
  {
   "cell_type": "code",
   "execution_count": 16,
   "metadata": {
    "collapsed": false
   },
   "outputs": [],
   "source": [
    "from sklearn.preprocessing import StandardScaler\n",
    "from sklearn import svm\n",
    "from sklearn.pipeline import Pipeline\n",
    "from sklearn.model_selection import train_test_split\n",
    "from sklearn.model_selection import GridSearchCV"
   ]
  },
  {
   "cell_type": "code",
   "execution_count": 17,
   "metadata": {
    "collapsed": false
   },
   "outputs": [],
   "source": [
    "# class weight set to balanced due to unbalanced data\n",
    "\n",
    "pipe = Pipeline(steps=[('scaler',StandardScaler()),\n",
    "                      ('clf',svm.SVC(kernel='poly', degree=3,class_weight='balanced'))])"
   ]
  },
  {
   "cell_type": "code",
   "execution_count": 18,
   "metadata": {
    "collapsed": false
   },
   "outputs": [],
   "source": [
    "# Scoring was set to compute precision, recall and f1. The model refit was set on f1 score.\n",
    "\n",
    "param_grid = {'clf__C':[1,10,100,1000],\n",
    "             'clf__coef0':[0,0.1,1,2],\n",
    "             }\n",
    "scoring = {'prc':'precision','rc':'recall','f1':'f1'}\n",
    "\n",
    "gs = GridSearchCV(estimator = pipe,\n",
    "                 param_grid=param_grid,\n",
    "                 scoring=scoring,\n",
    "                 refit='f1',\n",
    "                 cv=3)"
   ]
  },
  {
   "cell_type": "code",
   "execution_count": 19,
   "metadata": {
    "collapsed": false
   },
   "outputs": [
    {
     "data": {
      "text/plain": [
       "GridSearchCV(cv=3, error_score='raise',\n",
       "       estimator=Pipeline(memory=None,\n",
       "     steps=[('scaler', StandardScaler(copy=True, with_mean=True, with_std=True)), ('clf', SVC(C=1.0, cache_size=200, class_weight='balanced', coef0=0.0,\n",
       "  decision_function_shape='ovr', degree=3, gamma='auto', kernel='poly',\n",
       "  max_iter=-1, probability=False, random_state=None, shrinking=True,\n",
       "  tol=0.001, verbose=False))]),\n",
       "       fit_params=None, iid=True, n_jobs=1,\n",
       "       param_grid={'clf__C': [1, 10, 100, 1000], 'clf__coef0': [0, 0.1, 1, 2]},\n",
       "       pre_dispatch='2*n_jobs', refit='f1', return_train_score='warn',\n",
       "       scoring={'prc': 'precision', 'rc': 'recall', 'f1': 'f1'}, verbose=0)"
      ]
     },
     "execution_count": 19,
     "metadata": {},
     "output_type": "execute_result"
    }
   ],
   "source": [
    "gs.fit(df_train, ev_label.label)"
   ]
  },
  {
   "cell_type": "code",
   "execution_count": 20,
   "metadata": {
    "collapsed": false
   },
   "outputs": [
    {
     "data": {
      "text/plain": [
       "{'clf__C': 1, 'clf__coef0': 1}"
      ]
     },
     "execution_count": 20,
     "metadata": {},
     "output_type": "execute_result"
    }
   ],
   "source": [
    "#best hyper parameters \n",
    "\n",
    "gs.best_params_"
   ]
  },
  {
   "cell_type": "code",
   "execution_count": 21,
   "metadata": {
    "collapsed": false
   },
   "outputs": [
    {
     "data": {
      "text/plain": [
       "0.7168609280121221"
      ]
     },
     "execution_count": 21,
     "metadata": {},
     "output_type": "execute_result"
    }
   ],
   "source": [
    "#best f1 score\n",
    "\n",
    "gs.best_score_"
   ]
  },
  {
   "cell_type": "code",
   "execution_count": 22,
   "metadata": {
    "collapsed": false
   },
   "outputs": [],
   "source": [
    "f1_list = gs.cv_results_['mean_test_f1']\n",
    "rc_list = gs.cv_results_['mean_test_rc']\n",
    "prc_list = gs.cv_results_['mean_test_prc']\n",
    "result_data=list(zip(f1_list,rc_list,prc_list))\n",
    "result_frame = pd.DataFrame(result_data, columns=['F1','Recall','Precision'])"
   ]
  },
  {
   "cell_type": "code",
   "execution_count": 23,
   "metadata": {
    "collapsed": false
   },
   "outputs": [
    {
     "data": {
      "text/html": [
       "<div>\n",
       "<style scoped>\n",
       "    .dataframe tbody tr th:only-of-type {\n",
       "        vertical-align: middle;\n",
       "    }\n",
       "\n",
       "    .dataframe tbody tr th {\n",
       "        vertical-align: top;\n",
       "    }\n",
       "\n",
       "    .dataframe thead th {\n",
       "        text-align: right;\n",
       "    }\n",
       "</style>\n",
       "<table border=\"1\" class=\"dataframe\">\n",
       "  <thead>\n",
       "    <tr style=\"text-align: right;\">\n",
       "      <th></th>\n",
       "      <th>F1</th>\n",
       "      <th>Recall</th>\n",
       "      <th>Precision</th>\n",
       "    </tr>\n",
       "  </thead>\n",
       "  <tbody>\n",
       "    <tr>\n",
       "      <th>0</th>\n",
       "      <td>0.571427</td>\n",
       "      <td>0.485446</td>\n",
       "      <td>0.699254</td>\n",
       "    </tr>\n",
       "    <tr>\n",
       "      <th>1</th>\n",
       "      <td>0.691324</td>\n",
       "      <td>0.702458</td>\n",
       "      <td>0.680945</td>\n",
       "    </tr>\n",
       "    <tr>\n",
       "      <th>2</th>\n",
       "      <td>0.716861</td>\n",
       "      <td>0.809864</td>\n",
       "      <td>0.643129</td>\n",
       "    </tr>\n",
       "    <tr>\n",
       "      <th>3</th>\n",
       "      <td>0.714877</td>\n",
       "      <td>0.807796</td>\n",
       "      <td>0.641438</td>\n",
       "    </tr>\n",
       "    <tr>\n",
       "      <th>4</th>\n",
       "      <td>0.635708</td>\n",
       "      <td>0.592861</td>\n",
       "      <td>0.692054</td>\n",
       "    </tr>\n",
       "    <tr>\n",
       "      <th>5</th>\n",
       "      <td>0.706483</td>\n",
       "      <td>0.807796</td>\n",
       "      <td>0.628064</td>\n",
       "    </tr>\n",
       "    <tr>\n",
       "      <th>6</th>\n",
       "      <td>0.713674</td>\n",
       "      <td>0.797472</td>\n",
       "      <td>0.646454</td>\n",
       "    </tr>\n",
       "    <tr>\n",
       "      <th>7</th>\n",
       "      <td>0.710509</td>\n",
       "      <td>0.793336</td>\n",
       "      <td>0.644164</td>\n",
       "    </tr>\n",
       "    <tr>\n",
       "      <th>8</th>\n",
       "      <td>0.647845</td>\n",
       "      <td>0.601172</td>\n",
       "      <td>0.703798</td>\n",
       "    </tr>\n",
       "    <tr>\n",
       "      <th>9</th>\n",
       "      <td>0.706410</td>\n",
       "      <td>0.789216</td>\n",
       "      <td>0.639964</td>\n",
       "    </tr>\n",
       "    <tr>\n",
       "      <th>10</th>\n",
       "      <td>0.705940</td>\n",
       "      <td>0.785085</td>\n",
       "      <td>0.642235</td>\n",
       "    </tr>\n",
       "    <tr>\n",
       "      <th>11</th>\n",
       "      <td>0.706979</td>\n",
       "      <td>0.789216</td>\n",
       "      <td>0.641391</td>\n",
       "    </tr>\n",
       "    <tr>\n",
       "      <th>12</th>\n",
       "      <td>0.641057</td>\n",
       "      <td>0.594984</td>\n",
       "      <td>0.695536</td>\n",
       "    </tr>\n",
       "    <tr>\n",
       "      <th>13</th>\n",
       "      <td>0.696436</td>\n",
       "      <td>0.774746</td>\n",
       "      <td>0.633573</td>\n",
       "    </tr>\n",
       "    <tr>\n",
       "      <th>14</th>\n",
       "      <td>0.700833</td>\n",
       "      <td>0.778882</td>\n",
       "      <td>0.638071</td>\n",
       "    </tr>\n",
       "    <tr>\n",
       "      <th>15</th>\n",
       "      <td>0.701315</td>\n",
       "      <td>0.780945</td>\n",
       "      <td>0.637447</td>\n",
       "    </tr>\n",
       "  </tbody>\n",
       "</table>\n",
       "</div>"
      ],
      "text/plain": [
       "          F1    Recall  Precision\n",
       "0   0.571427  0.485446   0.699254\n",
       "1   0.691324  0.702458   0.680945\n",
       "2   0.716861  0.809864   0.643129\n",
       "3   0.714877  0.807796   0.641438\n",
       "4   0.635708  0.592861   0.692054\n",
       "5   0.706483  0.807796   0.628064\n",
       "6   0.713674  0.797472   0.646454\n",
       "7   0.710509  0.793336   0.644164\n",
       "8   0.647845  0.601172   0.703798\n",
       "9   0.706410  0.789216   0.639964\n",
       "10  0.705940  0.785085   0.642235\n",
       "11  0.706979  0.789216   0.641391\n",
       "12  0.641057  0.594984   0.695536\n",
       "13  0.696436  0.774746   0.633573\n",
       "14  0.700833  0.778882   0.638071\n",
       "15  0.701315  0.780945   0.637447"
      ]
     },
     "execution_count": 23,
     "metadata": {},
     "output_type": "execute_result"
    }
   ],
   "source": [
    "result_frame"
   ]
  },
  {
   "cell_type": "code",
   "execution_count": 24,
   "metadata": {
    "collapsed": true
   },
   "outputs": [],
   "source": [
    "list2 = df_test[pd.isnull(df_test).any(axis=1)].index.tolist()"
   ]
  },
  {
   "cell_type": "code",
   "execution_count": 25,
   "metadata": {
    "collapsed": false
   },
   "outputs": [],
   "source": [
    "df_test = df_test.drop(index=list2)"
   ]
  },
  {
   "cell_type": "code",
   "execution_count": 26,
   "metadata": {
    "collapsed": true
   },
   "outputs": [],
   "source": [
    "df_test.set_index('House ID', inplace=True)"
   ]
  },
  {
   "cell_type": "code",
   "execution_count": 27,
   "metadata": {
    "collapsed": false
   },
   "outputs": [],
   "source": [
    "df_test_feat = df_test.mean(axis=1).rename('Avg_pwr').to_frame()\n",
    "df_test_feat['Med_pwr'] = df_test.median(axis=1)\n",
    "df_test_feat['Ran_pwr'] = df_test.max(axis=1)-df_test.min(axis=1)\n",
    "df_test_feat['Std_pwr'] = df_test.std(axis=1)\n",
    "df_test_feat['IQR_pwr'] = df_test.quantile(q=0.75,axis=1)-df_test.quantile(q=0.25,axis=1)\n",
    "df_test_feat['Nrange_pwr'] = df_test_feat['Ran_pwr']/df_test_feat['Avg_pwr']\n",
    "df_test_feat['NIQR_pwr'] = df_test_feat['IQR_pwr'] / df_test_feat['Avg_pwr']"
   ]
  },
  {
   "cell_type": "code",
   "execution_count": 28,
   "metadata": {
    "collapsed": false
   },
   "outputs": [
    {
     "name": "stdout",
     "output_type": "stream",
     "text": [
      "<class 'pandas.core.frame.DataFrame'>\n",
      "Int64Index: 697 entries, 11643173 to 11643369\n",
      "Data columns (total 7 columns):\n",
      "Avg_pwr       697 non-null float64\n",
      "Med_pwr       697 non-null float64\n",
      "Ran_pwr       697 non-null float64\n",
      "Std_pwr       697 non-null float64\n",
      "IQR_pwr       697 non-null float64\n",
      "Nrange_pwr    697 non-null float64\n",
      "NIQR_pwr      697 non-null float64\n",
      "dtypes: float64(7)\n",
      "memory usage: 43.6 KB\n"
     ]
    }
   ],
   "source": [
    "df_test_feat.info()"
   ]
  },
  {
   "cell_type": "code",
   "execution_count": 29,
   "metadata": {
    "collapsed": false
   },
   "outputs": [],
   "source": [
    "df_test_feat['pred_label'] = gs.predict(df_test_feat)"
   ]
  },
  {
   "cell_type": "code",
   "execution_count": 56,
   "metadata": {
    "collapsed": false
   },
   "outputs": [],
   "source": [
    "Ev_houses = df_test_feat[df_test_feat['pred_label'] == 1].index"
   ]
  },
  {
   "cell_type": "code",
   "execution_count": 65,
   "metadata": {
    "collapsed": false
   },
   "outputs": [],
   "source": [
    "df_EV_house = df_test.filter(items=Ev_houses.tolist(), axis=0)"
   ]
  },
  {
   "cell_type": "code",
   "execution_count": 67,
   "metadata": {
    "collapsed": false
   },
   "outputs": [
    {
     "data": {
      "text/plain": [
       "(269, 2880)"
      ]
     },
     "execution_count": 67,
     "metadata": {},
     "output_type": "execute_result"
    }
   ],
   "source": [
    "df_EV_house.shape"
   ]
  },
  {
   "cell_type": "code",
   "execution_count": 69,
   "metadata": {
    "collapsed": false
   },
   "outputs": [],
   "source": [
    "df_EV_house.to_csv('EV_house')"
   ]
  },
  {
   "cell_type": "code",
   "execution_count": 73,
   "metadata": {
    "collapsed": false
   },
   "outputs": [
    {
     "data": {
      "text/plain": [
       "[11643173,\n",
       " 11655020,\n",
       " 11633356,\n",
       " 11649905,\n",
       " 11633656,\n",
       " 11651030,\n",
       " 11655259,\n",
       " 11641229,\n",
       " 11633651,\n",
       " 11633485,\n",
       " 11629699,\n",
       " 11650967,\n",
       " 11637542,\n",
       " 11648204,\n",
       " 11636828,\n",
       " 11636306,\n",
       " 11647618,\n",
       " 11639623,\n",
       " 11632105,\n",
       " 11642831,\n",
       " 11654105,\n",
       " 11633871,\n",
       " 11651545,\n",
       " 11640411,\n",
       " 11650591,\n",
       " 11639159,\n",
       " 11644252,\n",
       " 11651256,\n",
       " 11654624,\n",
       " 11648208,\n",
       " 11630414,\n",
       " 11651550,\n",
       " 11653979,\n",
       " 11638726,\n",
       " 11637153,\n",
       " 11652833,\n",
       " 11630258,\n",
       " 11633404,\n",
       " 11640907,\n",
       " 11634232,\n",
       " 11629676,\n",
       " 11646446,\n",
       " 11629436,\n",
       " 11638875,\n",
       " 11654873,\n",
       " 11634094,\n",
       " 11651218,\n",
       " 11631790,\n",
       " 11635225,\n",
       " 11640640,\n",
       " 11637678,\n",
       " 11628645,\n",
       " 11646245,\n",
       " 11629339,\n",
       " 11641124,\n",
       " 11653788,\n",
       " 11632980,\n",
       " 11651284,\n",
       " 11628516,\n",
       " 11633911,\n",
       " 11649621,\n",
       " 11640260,\n",
       " 11637749,\n",
       " 11647050,\n",
       " 11644761,\n",
       " 11637294,\n",
       " 11648151,\n",
       " 11644926,\n",
       " 11630533,\n",
       " 11630111,\n",
       " 11630237,\n",
       " 11653567,\n",
       " 11640739,\n",
       " 11643734,\n",
       " 11633523,\n",
       " 11640352,\n",
       " 11642788,\n",
       " 11652924,\n",
       " 11647936,\n",
       " 11639971,\n",
       " 11647091,\n",
       " 11653756,\n",
       " 11639308,\n",
       " 11653641,\n",
       " 11630152,\n",
       " 11654973,\n",
       " 11653336,\n",
       " 11636890,\n",
       " 11655967,\n",
       " 11651193,\n",
       " 11643617,\n",
       " 11650650,\n",
       " 11632842,\n",
       " 11654927,\n",
       " 11643829,\n",
       " 11628981,\n",
       " 11646942,\n",
       " 11634327,\n",
       " 11630168,\n",
       " 11647212,\n",
       " 11632689,\n",
       " 11654884,\n",
       " 11628906,\n",
       " 11642556,\n",
       " 11644265,\n",
       " 11654916,\n",
       " 11643531,\n",
       " 11651541,\n",
       " 11628675,\n",
       " 11628644,\n",
       " 11637316,\n",
       " 11637186,\n",
       " 11651656,\n",
       " 11637417,\n",
       " 11645833,\n",
       " 11633677,\n",
       " 11636848,\n",
       " 11637026,\n",
       " 11651650,\n",
       " 11631802,\n",
       " 11628553,\n",
       " 11628495,\n",
       " 11638892,\n",
       " 11651201,\n",
       " 11647980,\n",
       " 11649857,\n",
       " 11641026,\n",
       " 11648256,\n",
       " 11630947,\n",
       " 11651095,\n",
       " 11647071,\n",
       " 11636944,\n",
       " 11642615,\n",
       " 11647281,\n",
       " 11634184,\n",
       " 11630806,\n",
       " 11635908,\n",
       " 11653554,\n",
       " 11643753,\n",
       " 11646781,\n",
       " 11649830,\n",
       " 11651755,\n",
       " 11636127,\n",
       " 11650197,\n",
       " 11631541,\n",
       " 11647247,\n",
       " 11635869,\n",
       " 11631722,\n",
       " 11647351,\n",
       " 11637851,\n",
       " 11640238,\n",
       " 11640105,\n",
       " 11628831,\n",
       " 11637457,\n",
       " 11628373,\n",
       " 11630737,\n",
       " 11646070,\n",
       " 11647363,\n",
       " 11650406,\n",
       " 11651022,\n",
       " 11633672,\n",
       " 11640651,\n",
       " 11653221,\n",
       " 11634535,\n",
       " 11651343,\n",
       " 11650661,\n",
       " 11650113,\n",
       " 11634016,\n",
       " 11632780,\n",
       " 11629640,\n",
       " 11654040,\n",
       " 11653930,\n",
       " 11638900,\n",
       " 11637288,\n",
       " 11634230,\n",
       " 11630610,\n",
       " 11633009,\n",
       " 11652550,\n",
       " 11629477,\n",
       " 11651774,\n",
       " 11655917,\n",
       " 11644374,\n",
       " 11639300,\n",
       " 11633011,\n",
       " 11634374,\n",
       " 11634447,\n",
       " 11632231,\n",
       " 11637110,\n",
       " 11652711,\n",
       " 11651495,\n",
       " 11647321,\n",
       " 11650991,\n",
       " 11648104,\n",
       " 11632092,\n",
       " 11647902,\n",
       " 11638778,\n",
       " 11639907,\n",
       " 11644416,\n",
       " 11631815,\n",
       " 11639158,\n",
       " 11654101,\n",
       " 11651440,\n",
       " 11644264,\n",
       " 11632534,\n",
       " 11635690,\n",
       " 11645821,\n",
       " 11643446,\n",
       " 11642281,\n",
       " 11648223,\n",
       " 11648117,\n",
       " 11650337,\n",
       " 11639996,\n",
       " 11640709,\n",
       " 11646939,\n",
       " 11653036,\n",
       " 11642812,\n",
       " 11648285,\n",
       " 11632820,\n",
       " 11630461,\n",
       " 11640061,\n",
       " 11654111,\n",
       " 11644439,\n",
       " 11643840,\n",
       " 11644674,\n",
       " 11637718,\n",
       " 11643235,\n",
       " 11642769,\n",
       " 11646846,\n",
       " 11634515,\n",
       " 11632667,\n",
       " 11652720,\n",
       " 11650460,\n",
       " 11651544,\n",
       " 11647619,\n",
       " 11650461,\n",
       " 11641035,\n",
       " 11647377,\n",
       " 11635303,\n",
       " 11631857,\n",
       " 11633001,\n",
       " 11634309,\n",
       " 11639676,\n",
       " 11642248,\n",
       " 11631390,\n",
       " 11652951,\n",
       " 11628349,\n",
       " 11654137,\n",
       " 11655052,\n",
       " 11632661,\n",
       " 11646830,\n",
       " 11649226,\n",
       " 11629657,\n",
       " 11655109,\n",
       " 11636584,\n",
       " 11637295,\n",
       " 11653897,\n",
       " 11647947,\n",
       " 11637226,\n",
       " 11633461,\n",
       " 11641232,\n",
       " 11640323,\n",
       " 11635171,\n",
       " 11646907,\n",
       " 11644585,\n",
       " 11640734,\n",
       " 11633526,\n",
       " 11642749,\n",
       " 11644595,\n",
       " 11643369]"
      ]
     },
     "execution_count": 73,
     "metadata": {},
     "output_type": "execute_result"
    }
   ],
   "source": [
    "Ev_houses.tolist()"
   ]
  },
  {
   "cell_type": "code",
   "execution_count": null,
   "metadata": {
    "collapsed": false
   },
   "outputs": [],
   "source": []
  },
  {
   "cell_type": "code",
   "execution_count": null,
   "metadata": {
    "collapsed": false
   },
   "outputs": [],
   "source": []
  },
  {
   "cell_type": "code",
   "execution_count": null,
   "metadata": {
    "collapsed": false
   },
   "outputs": [],
   "source": []
  },
  {
   "cell_type": "code",
   "execution_count": null,
   "metadata": {
    "collapsed": true
   },
   "outputs": [],
   "source": []
  }
 ],
 "metadata": {
  "kernelspec": {
   "display_name": "Python 3",
   "language": "python",
   "name": "python3"
  },
  "language_info": {
   "codemirror_mode": {
    "name": "ipython",
    "version": 3
   },
   "file_extension": ".py",
   "mimetype": "text/x-python",
   "name": "python",
   "nbconvert_exporter": "python",
   "pygments_lexer": "ipython3",
   "version": "3.6.0"
  }
 },
 "nbformat": 4,
 "nbformat_minor": 2
}
